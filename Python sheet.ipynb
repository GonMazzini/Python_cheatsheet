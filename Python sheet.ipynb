{
 "cells": [
  {
   "cell_type": "markdown",
   "metadata": {},
   "source": [
    "# This notebook is aimed to provide the Python most useful and essential resources for engineers.\n",
    "\n",
    "## Please feel free to contact me if you find any mistake, improvement opportunity or something that you find important is missing.\n",
    "\n",
    "### Email:\n",
    "gmazzini@itba.edu.ar\n",
    "\n",
    "#  $\\color{red}{\\text{TODO}}$\n",
    "    # Add a TOContent\n",
    "    #  Missing complex numbers"
   ]
  },
  {
   "cell_type": "markdown",
   "metadata": {},
   "source": [
    "# $\\color{blue}{\\text{Python data types:}}$\n",
    "\n",
    "![](data-types.png) "
   ]
  },
  {
   "cell_type": "markdown",
   "metadata": {},
   "source": [
    "##  [Numbers](#numbers), [String](#string), [Boolean](#boolean) , [Dictionaries](#dicts) ,[Lists](#lists) , [Tuples](#lists) , [Sets](#sets) "
   ]
  },
  {
   "cell_type": "markdown",
   "metadata": {},
   "source": [
    "## $\\color{blue}{\\text{Numbers:}}$ <a class=\"anchor\" id=\"numbers\"></a>\n",
    "* integers and floating point numbers"
   ]
  },
  {
   "cell_type": "code",
   "execution_count": 95,
   "metadata": {},
   "outputs": [
    {
     "data": {
      "text/plain": [
       "float"
      ]
     },
     "execution_count": 95,
     "metadata": {},
     "output_type": "execute_result"
    }
   ],
   "source": [
    "type(0) # int\n",
    "type(0.0) # float\n",
    "type(9E2) # float (9*10 to the power of 2)"
   ]
  },
  {
   "cell_type": "code",
   "execution_count": 97,
   "metadata": {},
   "outputs": [
    {
     "data": {
      "text/plain": [
       "'0b1111'"
      ]
     },
     "execution_count": 97,
     "metadata": {},
     "output_type": "execute_result"
    }
   ],
   "source": [
    "# Operations\n",
    "10**3 # 1000\n",
    "10 / 3 # 3.3333333333333335\n",
    "10 // 3 # 3 -> no decimals, returns the floor division\n",
    "10 % 3 # 1 -> return the reinder. (useful for even or odd identification)\n",
    "\n",
    "# Functions \n",
    "pow(10,2) # 100 -> same as 10**2\n",
    "abs(-10) #10\n",
    "round(10.46) # 10\n",
    "round(10.468, 2) # 10.47\n",
    "bin(15) # '0b1111'"
   ]
  },
  {
   "cell_type": "markdown",
   "metadata": {},
   "source": [
    "* complex numbers"
   ]
  },
  {
   "cell_type": "markdown",
   "metadata": {},
   "source": [
    "## $\\color{blue}{\\text{Strings}}$ <a class=\"anchor\" id=\"string\"></a>\n",
    "* in python, strings are stored as sequences of letters in memory.\n",
    "<img src=\"strings.png\" style=\"width:320px;height:110px\"/>"
   ]
  },
  {
   "cell_type": "code",
   "execution_count": 98,
   "metadata": {},
   "outputs": [
    {
     "data": {
      "text/plain": [
       "'\\t'"
      ]
     },
     "execution_count": 98,
     "metadata": {},
     "output_type": "execute_result"
    }
   ],
   "source": [
    "name = \"Gonzalo Mazzini\"\n",
    "name[5] # l\n",
    "name[:] # 'Gonzalo Mazzini'\n",
    "name[-1] # i -> last element\n",
    "name[::-1] # 'inizzaM olaznoG'   -> quick reversE\n",
    "name[0:10:2] # slicing, [start : end : step]\n",
    "\n",
    "len(\"hello\") # 5\n",
    "'Hello' + ' ' + 'Friend' # 'Hello Friend\"  -> string concatenation\n",
    "\"\\n\" # new line\n",
    "\"\\t\" # add tab"
   ]
  },
  {
   "cell_type": "code",
   "execution_count": 99,
   "metadata": {},
   "outputs": [
    {
     "name": "stdout",
     "output_type": "stream",
     "text": [
      "My name is Gonzalo, I am 26 years old\n",
      "My name is Gonzalo, I am 26 years old\n"
     ]
    }
   ],
   "source": [
    "# useful Methods\n",
    "\"  I play tennis \".strip() # 'I play tennis'  -> strips all whitspace (both ends)\n",
    "\"sI play tenniss\".strip(\"s\") # 'I play tenni' -> strips all passed characters (both ends)\n",
    "\"what about you\".split() # ['what', 'about', 'you']\n",
    "\"today is sunday\".replace(\"sunday\",\"saturday\") # 'today is saturday'\n",
    "\"today is sunday\".upper() # 'TODAY IS SUNDAY'\n",
    "\"TODAY IS SUNDAY\".lower() # 'today is sunday'\n",
    "\"today is sunday\".capitalize() # 'Today is sunday'\n",
    "\"today is sunday\".find('i') # 6 returns starting index position (first occurence)\n",
    "\"today is sunday\".count('y') # 2 \n",
    "\n",
    "# formatting\n",
    "name1 = 'Gonzalo'\n",
    "age = 26\n",
    "print(f'My name is {name1}, I am {age} years old') # My name is Gonzalo, I am 26 years old\n",
    "# alternative as of python 3.6\n",
    "print('My name is {}, I am {} years old'.format(name1,age)) # My name is Gonzalo, I am 26 years old"
   ]
  },
  {
   "cell_type": "markdown",
   "metadata": {},
   "source": [
    "## $\\color{blue}{\\text{Boolean}}$  <a class=\"anchor\" id=\"boolean\"></a>\n",
    "\n",
    "* True or False. For logical operations and comparison."
   ]
  },
  {
   "cell_type": "code",
   "execution_count": 100,
   "metadata": {},
   "outputs": [
    {
     "data": {
      "text/plain": [
       "True"
      ]
     },
     "execution_count": 100,
     "metadata": {},
     "output_type": "execute_result"
    }
   ],
   "source": [
    "bool(True) # True\n",
    "\n",
    "bool(False) # False\n",
    "bool(None) # False\n",
    "bool(0) # False\n",
    "bool(0.0) # False\n",
    "bool(range(0)) # False\n",
    "bool([]) # False\n",
    "bool({}) # False\n",
    "bool(()) # False\n",
    "bool('') # False\n",
    "bool(range(0)) # False\n",
    "bool(set()) # False\n",
    "\"\"\"Everything else will evaluate to True in Python!!\"\"\"\n",
    "bool(2) # True\n",
    "bool([0,1,{}]) # True"
   ]
  },
  {
   "cell_type": "markdown",
   "metadata": {},
   "source": [
    "## $\\color{blue}{\\text{Dictionaries (Hash list)}}$  <a class=\"anchor\" id=\"dicts\"></a>\n",
    "\n",
    "![](dicts.png)"
   ]
  },
  {
   "cell_type": "code",
   "execution_count": 101,
   "metadata": {},
   "outputs": [],
   "source": [
    "my_dict = {\"name\": \"Gonzalo Mazzini\", \"age\" : 26, \"is_alive\" : True}"
   ]
  },
  {
   "cell_type": "code",
   "execution_count": 102,
   "metadata": {},
   "outputs": [
    {
     "data": {
      "text/plain": [
       "['name', 'age', 'is_alive']"
      ]
     },
     "execution_count": 102,
     "metadata": {},
     "output_type": "execute_result"
    }
   ],
   "source": [
    "my_dict[\"name\"] # 'Gonzalo Mazzini'\n",
    "len(my_dict) # 3\n",
    "list(my_dict.keys()) # ['name', 'age', 'is_alive']"
   ]
  },
  {
   "cell_type": "code",
   "execution_count": 103,
   "metadata": {},
   "outputs": [
    {
     "data": {
      "text/plain": [
       "['Gonzalo Mazzini', 26, True]"
      ]
     },
     "execution_count": 103,
     "metadata": {},
     "output_type": "execute_result"
    }
   ],
   "source": [
    "list(my_dict.values()) # ['Gonzalo Mazzini', 26, True]"
   ]
  },
  {
   "cell_type": "code",
   "execution_count": 104,
   "metadata": {},
   "outputs": [
    {
     "data": {
      "text/plain": [
       "[('name', 'Gonzalo Mazzini'), ('age', 26), ('is_alive', True)]"
      ]
     },
     "execution_count": 104,
     "metadata": {},
     "output_type": "execute_result"
    }
   ],
   "source": [
    "list(my_dict.items()) #  [('name', 'Gonzalo Mazzini'), ('age', 26), ('is_alive', True)]"
   ]
  },
  {
   "cell_type": "code",
   "execution_count": 105,
   "metadata": {},
   "outputs": [],
   "source": [
    "my_dict[\"height\"] = 1.76 # {'name': 'Gonzalo Mazzini', 'age': 26, 'is_alive': True, 'height': 1.76}"
   ]
  },
  {
   "cell_type": "code",
   "execution_count": 106,
   "metadata": {},
   "outputs": [
    {
     "data": {
      "text/plain": [
       "1.76"
      ]
     },
     "execution_count": 106,
     "metadata": {},
     "output_type": "execute_result"
    }
   ],
   "source": [
    "my_dict.get(\"height\") # 1.76"
   ]
  },
  {
   "cell_type": "code",
   "execution_count": 107,
   "metadata": {},
   "outputs": [],
   "source": [
    "my_dict.get(\"weight\") # returns None as the key does not exist"
   ]
  },
  {
   "cell_type": "code",
   "execution_count": 108,
   "metadata": {},
   "outputs": [
    {
     "data": {
      "text/plain": [
       "'Gonzalo Mazzini'"
      ]
     },
     "execution_count": 108,
     "metadata": {},
     "output_type": "execute_result"
    }
   ],
   "source": [
    "\"\"\"Remove key\"\"\"\n",
    "del my_dict[\"age\"]\n",
    "my_dict.pop(\"name\", None) # just another alternative"
   ]
  },
  {
   "cell_type": "code",
   "execution_count": 109,
   "metadata": {},
   "outputs": [
    {
     "data": {
      "text/plain": [
       "False"
      ]
     },
     "execution_count": 109,
     "metadata": {},
     "output_type": "execute_result"
    }
   ],
   "source": [
    "new_dict = {\"is_alive\": False} \n",
    "my_dict.update(new_dict) # update a value by passing a dict which contains that key\n",
    "my_dict[\"is_alive\"] # False"
   ]
  },
  {
   "cell_type": "code",
   "execution_count": 110,
   "metadata": {},
   "outputs": [
    {
     "data": {
      "text/plain": [
       "{'is_alive': False, 'height': 1.76, 'age': 27}"
      ]
     },
     "execution_count": 110,
     "metadata": {},
     "output_type": "execute_result"
    }
   ],
   "source": [
    "{**my_dict, **{\"age\": 27} }  # {'name': 'Gonzalo Mazzini', 'age': 27, 'is_alive': False}"
   ]
  },
  {
   "cell_type": "code",
   "execution_count": 111,
   "metadata": {},
   "outputs": [
    {
     "data": {
      "text/plain": [
       "{'key1': 'value1', 'key2': 'value2', 'key3': 'value3'}"
      ]
     },
     "execution_count": 111,
     "metadata": {},
     "output_type": "execute_result"
    }
   ],
   "source": [
    "\"\"\"Use zip to create a dict\"\"\" \n",
    "my_dict = dict(zip([\"key1\",\"key2\",\"key3\"], [\"value1\",\"value2\",\"value3\"]))\n",
    "my_dict # {'key1': 'value1', 'key2': 'value2', 'key3': 'value3'}"
   ]
  },
  {
   "cell_type": "code",
   "execution_count": 112,
   "metadata": {},
   "outputs": [
    {
     "data": {
      "text/plain": [
       "'Dictionary comprehension'"
      ]
     },
     "execution_count": 112,
     "metadata": {},
     "output_type": "execute_result"
    }
   ],
   "source": [
    "\"\"\"Dictionary comprehension\"\"\""
   ]
  },
  {
   "cell_type": "code",
   "execution_count": 113,
   "metadata": {},
   "outputs": [
    {
     "data": {
      "text/plain": [
       "{'key1': 'value1'}"
      ]
     },
     "execution_count": 113,
     "metadata": {},
     "output_type": "execute_result"
    }
   ],
   "source": [
    "{key : value for key, value in [('key1', 'value1'), ('key2', 'value2'), ('key3', 'value3')] } # {'key1': 'value1', 'key2': 'value2', 'key3': 'value3'}\n",
    "# filter dict by keys\n",
    "{key : value for key, value in [('key1', 'value1'), ('key2', 'value2'), ('key3', 'value3')] if key == \"key1\"} # {'key1': 'value1'}\n"
   ]
  },
  {
   "cell_type": "code",
   "execution_count": 114,
   "metadata": {},
   "outputs": [
    {
     "data": {
      "text/plain": [
       "{'key1': 'value1'}"
      ]
     },
     "execution_count": 114,
     "metadata": {},
     "output_type": "execute_result"
    }
   ],
   "source": [
    "{key : value for key, value in [('key1', 'value1'), ('key2', 'value2'), ('key3', 'value3')] if key == \"key1\"}"
   ]
  },
  {
   "cell_type": "markdown",
   "metadata": {},
   "source": [
    "##  $\\color{blue}{\\text{Lists (arrays)}}$ <a class=\"anchor\" id=\"lists\"></a>\n",
    "* unlike strings, lists are mutable sequences in python"
   ]
  },
  {
   "cell_type": "code",
   "execution_count": 115,
   "metadata": {},
   "outputs": [
    {
     "name": "stdout",
     "output_type": "stream",
     "text": [
      "'str' object does not support item assignment\n"
     ]
    }
   ],
   "source": [
    "\"gonzalo\"[1] # g\n",
    "try:\n",
    "    \"Gonzalo\"[1] = \"G\"\n",
    "except TypeError as err:\n",
    "    print(err)\n",
    "# 'str' object does not support item assignment"
   ]
  },
  {
   "cell_type": "code",
   "execution_count": 116,
   "metadata": {
    "scrolled": true
   },
   "outputs": [
    {
     "name": "stdout",
     "output_type": "stream",
     "text": [
      "<class 'int'>\n",
      "<class 'float'>\n",
      "<class 'str'>\n",
      "<class 'bool'>\n",
      "<class 'function'>\n"
     ]
    },
    {
     "data": {
      "text/plain": [
       "5"
      ]
     },
     "execution_count": 116,
     "metadata": {},
     "output_type": "execute_result"
    }
   ],
   "source": [
    "# int, floats, strings, booleand and functions among others can be stored in a list.\n",
    "my_list = [1, 1.0, \"1\", True, lambda x: True]\n",
    "for elemento in my_list:\n",
    "    print(type(elemento))  \n",
    "# <class 'int'>\n",
    "# <class 'float'>\n",
    "# <class 'str'>\n",
    "# <class 'bool'>\n",
    "# <class 'function'>\n",
    "\n",
    "len(my_list) # 5 "
   ]
  },
  {
   "cell_type": "code",
   "execution_count": 117,
   "metadata": {},
   "outputs": [
    {
     "name": "stdout",
     "output_type": "stream",
     "text": [
      "[1, 'string', False]\n"
     ]
    }
   ],
   "source": [
    "my_list = [1,\"string\", False]\n",
    "my_list*2 #  [1, 'string', False, 1, 'string', False]\n",
    "my_list + [True] #  [1, 'string', False, True]\n",
    "\"\"\"Note that the above does not mutate the original list, it creates a new list.\"\"\"\n",
    "print(my_list) # [1, 'string', False]  (still the original list.)"
   ]
  },
  {
   "cell_type": "code",
   "execution_count": 118,
   "metadata": {},
   "outputs": [],
   "source": [
    "my_list.append(99) # returns None, it mutates the original list to [1,\"string\",False, 99]"
   ]
  },
  {
   "cell_type": "code",
   "execution_count": 119,
   "metadata": {},
   "outputs": [
    {
     "data": {
      "text/plain": [
       "[1, 'string', False, 99, 99, 100]"
      ]
     },
     "execution_count": 119,
     "metadata": {},
     "output_type": "execute_result"
    }
   ],
   "source": [
    "my_list.extend([99,100]) # None, it mutates the original list to [1, 'string', False, 99, 100]\n",
    "my_list"
   ]
  },
  {
   "cell_type": "code",
   "execution_count": 120,
   "metadata": {},
   "outputs": [
    {
     "name": "stdout",
     "output_type": "stream",
     "text": [
      "[1, 'string', False]\n",
      "[1, 'string', False]\n"
     ]
    }
   ],
   "source": [
    "# this may be deleted..\n",
    "my_list = [1,\"string\", False]\n",
    "other_list = my_list\n",
    "other_list*2\n",
    "print(other_list)\n",
    "print(my_list)"
   ]
  },
  {
   "cell_type": "code",
   "execution_count": 121,
   "metadata": {},
   "outputs": [
    {
     "name": "stdout",
     "output_type": "stream",
     "text": [
      "[1, 'string', False, [True]]\n",
      "[1, 'string', False, [True]]\n"
     ]
    },
    {
     "data": {
      "text/plain": [
       "'Note how other_list is a refering to the same list as my_list. That is why adding an element in either of my_list\\nor other_list will have the same effect.'"
      ]
     },
     "execution_count": 121,
     "metadata": {},
     "output_type": "execute_result"
    }
   ],
   "source": [
    "my_list = [1,\"string\", False]\n",
    "other_list = my_list\n",
    "other_list.append([True])\n",
    "print(other_list)\n",
    "print(my_list)\n",
    "\"\"\"Note how other_list is a refering to the same list as my_list. That is why adding an element in either of my_list\n",
    "or other_list will have the same effect.\"\"\""
   ]
  },
  {
   "cell_type": "markdown",
   "metadata": {},
   "source": [
    "##  $\\color{blue}{\\text{Tuples}}$ <a class=\"anchor\" id=\"tuples\"></a>\n",
    "\n",
    "#### tuples are similiar to lists, however they are used for immutable data. Thus, both modifying or appending will raise an error.\n"
   ]
  },
  {
   "cell_type": "code",
   "execution_count": 127,
   "metadata": {},
   "outputs": [
    {
     "name": "stdout",
     "output_type": "stream",
     "text": [
      "'tuple' object does not support item assignment\n",
      "'tuple' object has no attribute 'append'\n"
     ]
    }
   ],
   "source": [
    "my_tuple = (\"oil\",\"gas\",\"carbon\", \"oil\")\n",
    "len(my_tuple) # 4\n",
    "my_tuple[0] # \"oil\"\n",
    "\n",
    "try: \n",
    "    my_tuple[1] = \"wind\"\n",
    "except TypeError as err:\n",
    "    print(err) # 'tuple' object does not support item assignment\n",
    "\n",
    "try:\n",
    "    my_tuple.append(\"solar\")\n",
    "except AttributeError as err:\n",
    "    print(err) # 'tuple' object has no attribute 'append'"
   ]
  },
  {
   "cell_type": "code",
   "execution_count": 66,
   "metadata": {},
   "outputs": [
    {
     "data": {
      "text/plain": [
       "2"
      ]
     },
     "execution_count": 66,
     "metadata": {},
     "output_type": "execute_result"
    }
   ],
   "source": [
    "my_tuple.index(\"oil\") # 0, returns the index of the first \"oil\"\n",
    "my_tuple.count(\"oil\") # 2"
   ]
  },
  {
   "cell_type": "markdown",
   "metadata": {},
   "source": [
    "##  $\\color{blue}{\\text{Sets}}$ <a class=\"anchor\" id=\"sets\"></a>\n",
    "\n",
    "### collection of $\\textbf{unique}$ elements, without order."
   ]
  },
  {
   "cell_type": "code",
   "execution_count": 80,
   "metadata": {},
   "outputs": [
    {
     "name": "stdout",
     "output_type": "stream",
     "text": [
      "Element not found\n"
     ]
    }
   ],
   "source": [
    "my_set = set()\n",
    "my_set.add(1) # {1}\n",
    "my_set.add(2) # {1 , 2}\n",
    "my_set.add(2) # {1 , 2} \n",
    "\n",
    "my_set.remove(2) #  {1}\n",
    "try:\n",
    "    my_set.remove(3) # raise a KeyError\n",
    "except KeyError:\n",
    "    print(\"Element not found\") \n",
    "    \n",
    "my_set.discard(3) # Does not raise an error \n",
    "my_set.clear() # {}"
   ]
  },
  {
   "cell_type": "code",
   "execution_count": 85,
   "metadata": {},
   "outputs": [
    {
     "data": {
      "text/plain": [
       "numpy.ndarray"
      ]
     },
     "execution_count": 85,
     "metadata": {},
     "output_type": "execute_result"
    }
   ],
   "source": [
    "type(np.arange(3))"
   ]
  },
  {
   "cell_type": "code",
   "execution_count": 88,
   "metadata": {},
   "outputs": [],
   "source": [
    "set1 = {1,2,3}\n",
    "set2 = {3,4,5}\n",
    "set3 = set1.union(set2) # {1, 2, 3, 4, 5}\n",
    "set4 = set1.intersection(set2) # {3}\n",
    "\n",
    "set5 = set1.difference(set2) # {1,2}\n",
    "set6 = set2.difference(set1) # {4,5}\n",
    "set7 = set1.symmetric_difference(set2) # {1,2,4,5}"
   ]
  },
  {
   "cell_type": "markdown",
   "metadata": {},
   "source": [
    "# $\\color{green}{\\text{Operators}}$\n",
    "\n",
    "##  [Logical Operators](#logical), [Comparison Operators](#comparison)"
   ]
  },
  {
   "cell_type": "markdown",
   "metadata": {},
   "source": [
    "##  $\\color{green}{\\text{Comparison Operators}}$ <a class=\"anchor\" id=\"comparison\"></a>"
   ]
  },
  {
   "cell_type": "code",
   "execution_count": 142,
   "metadata": {},
   "outputs": [
    {
     "data": {
      "text/html": [
       "<div>\n",
       "<style scoped>\n",
       "    .dataframe tbody tr th:only-of-type {\n",
       "        vertical-align: middle;\n",
       "    }\n",
       "\n",
       "    .dataframe tbody tr th {\n",
       "        vertical-align: top;\n",
       "    }\n",
       "\n",
       "    .dataframe thead th {\n",
       "        text-align: right;\n",
       "    }\n",
       "</style>\n",
       "<table border=\"1\" class=\"dataframe\">\n",
       "  <thead>\n",
       "    <tr style=\"text-align: right;\">\n",
       "      <th></th>\n",
       "      <th>comparison</th>\n",
       "      <th>meaning</th>\n",
       "    </tr>\n",
       "  </thead>\n",
       "  <tbody>\n",
       "    <tr>\n",
       "      <th>0</th>\n",
       "      <td>==</td>\n",
       "      <td>equal</td>\n",
       "    </tr>\n",
       "    <tr>\n",
       "      <th>1</th>\n",
       "      <td>!=</td>\n",
       "      <td>not equal</td>\n",
       "    </tr>\n",
       "    <tr>\n",
       "      <th>2</th>\n",
       "      <td>&gt;</td>\n",
       "      <td>is greater</td>\n",
       "    </tr>\n",
       "    <tr>\n",
       "      <th>3</th>\n",
       "      <td>&lt;</td>\n",
       "      <td>is less</td>\n",
       "    </tr>\n",
       "    <tr>\n",
       "      <th>4</th>\n",
       "      <td>&gt;=</td>\n",
       "      <td>greater or equal</td>\n",
       "    </tr>\n",
       "    <tr>\n",
       "      <th>5</th>\n",
       "      <td>&lt;=</td>\n",
       "      <td>less or equal</td>\n",
       "    </tr>\n",
       "    <tr>\n",
       "      <th>6</th>\n",
       "      <td>is</td>\n",
       "      <td>check if refer to same object in memory</td>\n",
       "    </tr>\n",
       "  </tbody>\n",
       "</table>\n",
       "</div>"
      ],
      "text/plain": [
       "  comparison                                   meaning\n",
       "0          ==                                    equal\n",
       "1          !=                                not equal\n",
       "2           >                               is greater\n",
       "3           <                                  is less\n",
       "4          >=                         greater or equal\n",
       "5          <=                            less or equal\n",
       "6          is  check if refer to same object in memory"
      ]
     },
     "execution_count": 142,
     "metadata": {},
     "output_type": "execute_result"
    }
   ],
   "source": [
    "import pandas as pd\n",
    "\n",
    "comparison = {'comparison ': ['==', '!=', '>', '<',  '>=', '<=', \"is\"], 'meaning': ['equal', 'not equal'\n",
    ", 'is greater', 'is less',  'greater or equal', 'less or equal', \"check if refer to same object in memory\"]}  \n",
    "df = pd.DataFrame(comparison)  \n",
    "df"
   ]
  },
  {
   "cell_type": "markdown",
   "metadata": {},
   "source": [
    "##  $\\color{green}{\\text{Logical Operators}}$ <a class=\"anchor\" id=\"logical\"></a>"
   ]
  },
  {
   "cell_type": "code",
   "execution_count": 146,
   "metadata": {},
   "outputs": [
    {
     "data": {
      "text/plain": [
       "True"
      ]
     },
     "execution_count": 146,
     "metadata": {},
     "output_type": "execute_result"
    }
   ],
   "source": [
    "1 < 2 and 4 > 5 # False\n",
    "1 < 2 or 4 > 5 # True\n",
    "1 is not 1.0 # True\n",
    "not False # True\n",
    "1 not in [2,3,4]"
   ]
  }
 ],
 "metadata": {
  "hide_input": false,
  "kernelspec": {
   "display_name": "Python 3",
   "language": "python",
   "name": "python3"
  },
  "language_info": {
   "codemirror_mode": {
    "name": "ipython",
    "version": 3
   },
   "file_extension": ".py",
   "mimetype": "text/x-python",
   "name": "python",
   "nbconvert_exporter": "python",
   "pygments_lexer": "ipython3",
   "version": "3.7.6"
  }
 },
 "nbformat": 4,
 "nbformat_minor": 4
}
